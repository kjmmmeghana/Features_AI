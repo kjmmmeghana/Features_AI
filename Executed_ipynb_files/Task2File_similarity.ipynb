{
  "nbformat": 4,
  "nbformat_minor": 0,
  "metadata": {
    "colab": {
      "provenance": []
    },
    "kernelspec": {
      "name": "python3",
      "display_name": "Python 3"
    },
    "language_info": {
      "name": "python"
    }
  },
  "cells": [
    {
      "cell_type": "code",
      "source": [
        "!pip install PyPDF2"
      ],
      "metadata": {
        "colab": {
          "base_uri": "https://localhost:8080/"
        },
        "id": "tp-u10X3Va0H",
        "outputId": "dfcc2f06-d4ef-4b0f-bce7-0166fb4940dc"
      },
      "execution_count": 1,
      "outputs": [
        {
          "output_type": "stream",
          "name": "stdout",
          "text": [
            "Collecting PyPDF2\n",
            "  Downloading pypdf2-3.0.1-py3-none-any.whl (232 kB)\n",
            "\u001b[2K     \u001b[90m━━━━━━━━━━━━━━━━━━━━━━━━━━━━━━━━━━━━━━━━\u001b[0m \u001b[32m232.6/232.6 kB\u001b[0m \u001b[31m2.3 MB/s\u001b[0m eta \u001b[36m0:00:00\u001b[0m\n",
            "\u001b[?25hInstalling collected packages: PyPDF2\n",
            "Successfully installed PyPDF2-3.0.1\n"
          ]
        }
      ]
    },
    {
      "cell_type": "code",
      "source": [
        "!pip install python-docx"
      ],
      "metadata": {
        "colab": {
          "base_uri": "https://localhost:8080/"
        },
        "id": "LazpEyI4Y3ll",
        "outputId": "fc42c6c9-8d89-479a-e248-bf8be9e65c8c"
      },
      "execution_count": 2,
      "outputs": [
        {
          "output_type": "stream",
          "name": "stdout",
          "text": [
            "Collecting python-docx\n",
            "  Downloading python_docx-1.1.2-py3-none-any.whl (244 kB)\n",
            "\u001b[?25l     \u001b[90m━━━━━━━━━━━━━━━━━━━━━━━━━━━━━━━━━━━━━━━━\u001b[0m \u001b[32m0.0/244.3 kB\u001b[0m \u001b[31m?\u001b[0m eta \u001b[36m-:--:--\u001b[0m\r\u001b[2K     \u001b[91m━━━━━━━━━━━━━━━━━━\u001b[0m\u001b[90m╺\u001b[0m\u001b[90m━━━━━━━━━━━━━━━━━━━━━\u001b[0m \u001b[32m112.6/244.3 kB\u001b[0m \u001b[31m3.2 MB/s\u001b[0m eta \u001b[36m0:00:01\u001b[0m\r\u001b[2K     \u001b[91m━━━━━━━━━━━━━━━━━━━━━━━━━━━━━━━━━━━━━━\u001b[0m\u001b[91m╸\u001b[0m\u001b[90m━\u001b[0m \u001b[32m235.5/244.3 kB\u001b[0m \u001b[31m4.4 MB/s\u001b[0m eta \u001b[36m0:00:01\u001b[0m\r\u001b[2K     \u001b[90m━━━━━━━━━━━━━━━━━━━━━━━━━━━━━━━━━━━━━━━━\u001b[0m \u001b[32m244.3/244.3 kB\u001b[0m \u001b[31m3.2 MB/s\u001b[0m eta \u001b[36m0:00:00\u001b[0m\n",
            "\u001b[?25hRequirement already satisfied: lxml>=3.1.0 in /usr/local/lib/python3.10/dist-packages (from python-docx) (4.9.4)\n",
            "Requirement already satisfied: typing-extensions>=4.9.0 in /usr/local/lib/python3.10/dist-packages (from python-docx) (4.11.0)\n",
            "Installing collected packages: python-docx\n",
            "Successfully installed python-docx-1.1.2\n"
          ]
        }
      ]
    },
    {
      "cell_type": "code",
      "source": [
        "!pip install contractions"
      ],
      "metadata": {
        "colab": {
          "base_uri": "https://localhost:8080/"
        },
        "id": "2Mpg7z05gxXy",
        "outputId": "6f0b9aa9-a168-4220-b90a-0bec373778fa"
      },
      "execution_count": 3,
      "outputs": [
        {
          "output_type": "stream",
          "name": "stdout",
          "text": [
            "Collecting contractions\n",
            "  Downloading contractions-0.1.73-py2.py3-none-any.whl (8.7 kB)\n",
            "Collecting textsearch>=0.0.21 (from contractions)\n",
            "  Downloading textsearch-0.0.24-py2.py3-none-any.whl (7.6 kB)\n",
            "Collecting anyascii (from textsearch>=0.0.21->contractions)\n",
            "  Downloading anyascii-0.3.2-py3-none-any.whl (289 kB)\n",
            "\u001b[2K     \u001b[90m━━━━━━━━━━━━━━━━━━━━━━━━━━━━━━━━━━━━━━━━\u001b[0m \u001b[32m289.9/289.9 kB\u001b[0m \u001b[31m5.2 MB/s\u001b[0m eta \u001b[36m0:00:00\u001b[0m\n",
            "\u001b[?25hCollecting pyahocorasick (from textsearch>=0.0.21->contractions)\n",
            "  Downloading pyahocorasick-2.1.0-cp310-cp310-manylinux_2_5_x86_64.manylinux1_x86_64.manylinux_2_12_x86_64.manylinux2010_x86_64.whl (110 kB)\n",
            "\u001b[2K     \u001b[90m━━━━━━━━━━━━━━━━━━━━━━━━━━━━━━━━━━━━━━━━\u001b[0m \u001b[32m110.7/110.7 kB\u001b[0m \u001b[31m9.9 MB/s\u001b[0m eta \u001b[36m0:00:00\u001b[0m\n",
            "\u001b[?25hInstalling collected packages: pyahocorasick, anyascii, textsearch, contractions\n",
            "Successfully installed anyascii-0.3.2 contractions-0.1.73 pyahocorasick-2.1.0 textsearch-0.0.24\n"
          ]
        }
      ]
    },
    {
      "cell_type": "code",
      "source": [
        "!pip install unidecode"
      ],
      "metadata": {
        "colab": {
          "base_uri": "https://localhost:8080/"
        },
        "id": "H-IU9rJJjN93",
        "outputId": "9d49027e-ffda-40c5-9f7c-fc9603b8f88a"
      },
      "execution_count": 4,
      "outputs": [
        {
          "output_type": "stream",
          "name": "stdout",
          "text": [
            "Collecting unidecode\n",
            "  Downloading Unidecode-1.3.8-py3-none-any.whl (235 kB)\n",
            "\u001b[2K     \u001b[90m━━━━━━━━━━━━━━━━━━━━━━━━━━━━━━━━━━━━━━━━\u001b[0m \u001b[32m235.5/235.5 kB\u001b[0m \u001b[31m2.8 MB/s\u001b[0m eta \u001b[36m0:00:00\u001b[0m\n",
            "\u001b[?25hInstalling collected packages: unidecode\n",
            "Successfully installed unidecode-1.3.8\n"
          ]
        }
      ]
    },
    {
      "cell_type": "code",
      "source": [
        "import os\n",
        "import PyPDF2\n",
        "import pandas as pd\n",
        "import docx\n",
        "import re\n",
        "import nltk\n",
        "import contractions\n",
        "import unidecode\n",
        "import numpy as np\n",
        "from nltk.corpus import stopwords\n",
        "from nltk.stem import WordNetLemmatizer, PorterStemmer\n",
        "from sklearn.feature_extraction.text import TfidfVectorizer\n",
        "from gensim.models import Word2Vec\n",
        "from sklearn.model_selection import train_test_split\n",
        "from sklearn.metrics import accuracy_score, precision_score, recall_score, f1_score, adjusted_rand_score, silhouette_score\n",
        "from sklearn.cluster import DBSCAN\n",
        "from collections import Counter\n",
        "from sklearn.metrics import silhouette_score\n",
        "from sklearn.svm import LinearSVC\n",
        "from sklearn.cluster import KMeans\n",
        "import matplotlib.pyplot as plt\n",
        "from sklearn.decomposition import TruncatedSVD\n",
        "import warnings\n",
        "warnings.filterwarnings('ignore')"
      ],
      "metadata": {
        "id": "AxYDuxhNUzfC"
      },
      "execution_count": 5,
      "outputs": []
    },
    {
      "cell_type": "code",
      "execution_count": 6,
      "metadata": {
        "id": "MhwXQBctSnP3"
      },
      "outputs": [],
      "source": [
        "#function to store PDF data\n",
        "def store_pdf_data(file_path):\n",
        "  pdf_reader = PyPDF2.PdfReader(file)\n",
        "  content = \"\"\n",
        "  for page_number in range(len(pdf_reader.pages)):\n",
        "    content += pdf_reader.pages[page_number].extract_text()\n",
        "  return content"
      ]
    },
    {
      "cell_type": "code",
      "source": [
        "#function to store DOCX data\n",
        "def store_doc_data(file_path):\n",
        "  doc = docx.Document(file_path)\n",
        "  content = \"\"\n",
        "  for paragraph in doc.paragraphs:\n",
        "    content += paragraph.text\n",
        "  return content"
      ],
      "metadata": {
        "id": "esKtds8SUGZS"
      },
      "execution_count": 7,
      "outputs": []
    },
    {
      "cell_type": "code",
      "source": [
        "# storing all the data extracted from files into a dataframe\n",
        "path = \"/content/Data\"\n",
        "whole_content=[]\n",
        "for filename in os.listdir(path):\n",
        "  row_data = {}\n",
        "  file_path = os.path.join(path, filename)\n",
        "  row_data[\"file_name\"]=filename\n",
        "  if filename.endswith(\".pdf\"):\n",
        "    with open(file_path, \"rb\") as file:\n",
        "      df_content = store_pdf_data(file_path)\n",
        "    row_data[\"content\"]=df_content\n",
        "    row_data[\"file_type\"]=\"PDF\"\n",
        "    row_data[\"label\"]= filename.split('_')[0]\n",
        "  elif filename.endswith(\".txt\"):\n",
        "    with open(file_path, \"r\") as file:\n",
        "      df_content = file.read()\n",
        "    row_data[\"content\"]=df_content\n",
        "    row_data[\"file_type\"]=\"TXT\"\n",
        "    row_data[\"label\"]= filename.split('_')[0]\n",
        "  elif filename.endswith(\".docx\"):\n",
        "    df_content = store_doc_data(file_path)\n",
        "    row_data[\"content\"]=df_content\n",
        "    row_data[\"file_type\"]=\"DOCX\"\n",
        "    row_data[\"label\"]= filename.split('_')[0]\n",
        "  whole_content.append(row_data)"
      ],
      "metadata": {
        "id": "0yZcHHimUGdF"
      },
      "execution_count": 8,
      "outputs": []
    },
    {
      "cell_type": "code",
      "source": [
        "df = pd.DataFrame(whole_content)"
      ],
      "metadata": {
        "id": "3pdwbaIgUqkV"
      },
      "execution_count": 9,
      "outputs": []
    },
    {
      "cell_type": "markdown",
      "source": [
        "Text cleaning"
      ],
      "metadata": {
        "id": "lkrYXLAhfe3T"
      }
    },
    {
      "cell_type": "code",
      "source": [
        "nltk.download('stopwords')\n",
        "nltk.download('wordnet')\n",
        "nltk.download('punkt')"
      ],
      "metadata": {
        "colab": {
          "base_uri": "https://localhost:8080/"
        },
        "id": "M0371PhpiJbx",
        "outputId": "c5fd6fcb-8118-430b-f155-2029126d71f3"
      },
      "execution_count": 10,
      "outputs": [
        {
          "output_type": "stream",
          "name": "stderr",
          "text": [
            "[nltk_data] Downloading package stopwords to /root/nltk_data...\n",
            "[nltk_data]   Unzipping corpora/stopwords.zip.\n",
            "[nltk_data] Downloading package wordnet to /root/nltk_data...\n",
            "[nltk_data] Downloading package punkt to /root/nltk_data...\n",
            "[nltk_data]   Unzipping tokenizers/punkt.zip.\n"
          ]
        },
        {
          "output_type": "execute_result",
          "data": {
            "text/plain": [
              "True"
            ]
          },
          "metadata": {},
          "execution_count": 10
        }
      ]
    },
    {
      "cell_type": "code",
      "source": [
        "# function to perform text cleaning\n",
        "def clean_text(text):\n",
        "\n",
        "  #removing contractions\n",
        "  text = contractions.fix(text)\n",
        "\n",
        "  #making the text to lowercase\n",
        "  text = text.lower()\n",
        "\n",
        "  #removing non-alphabetical charecters\n",
        "  text = re.sub(r'[^a-zA-Z\\s]', '', text)\n",
        "\n",
        "  #decoding the encoded data\n",
        "  text = unidecode.unidecode(text)\n",
        "\n",
        "  #performing tokenization\n",
        "  tokens = nltk.word_tokenize(text)\n",
        "\n",
        "  #removing stopwords\n",
        "  stop_words = set(stopwords.words('english'))\n",
        "  tokens = [word for word in tokens if word not in stop_words]\n",
        "\n",
        "  #performing lemmatization\n",
        "  lemmatizer = WordNetLemmatizer()\n",
        "  tokens = [lemmatizer.lemmatize(word) for word in tokens]\n",
        "\n",
        "  return tokens"
      ],
      "metadata": {
        "id": "DjuvUyd9fbx7"
      },
      "execution_count": 11,
      "outputs": []
    },
    {
      "cell_type": "code",
      "source": [
        "df['cleaned_content'] = df['content'].apply(clean_text)"
      ],
      "metadata": {
        "id": "VSINPXQLh8xo"
      },
      "execution_count": 12,
      "outputs": []
    },
    {
      "cell_type": "code",
      "source": [
        "#encoding the labels to numerical classification\n",
        "label_encoding = {\n",
        "    'education': 0,\n",
        "    'health': 1,\n",
        "    'entertainment': 2,\n",
        "}\n",
        "df['encoding'] = df['label'].map(label_encoding)\n",
        "X=df['cleaned_content']\n",
        "y=df['encoding']"
      ],
      "metadata": {
        "id": "MhAd746knrhD"
      },
      "execution_count": 13,
      "outputs": []
    },
    {
      "cell_type": "code",
      "source": [
        "X_train,X_test,y_train,y_test = train_test_split(X,y,train_size = 0.8,random_state = 5778)"
      ],
      "metadata": {
        "id": "KvVodxLZnr4v"
      },
      "execution_count": 73,
      "outputs": []
    },
    {
      "cell_type": "markdown",
      "source": [
        "## Vectorization"
      ],
      "metadata": {
        "id": "YuGZ-sB5fCSt"
      }
    },
    {
      "cell_type": "code",
      "source": [
        "vector_size = 100\n",
        "window = 5\n",
        "min_count = 3\n",
        "workers = 4\n",
        "\n",
        "#considering word2vec model to create word embeddings\n",
        "model = Word2Vec(sentences=X, vector_size=vector_size, window=window, min_count=min_count, workers=workers)\n",
        "\n",
        "model.save(\"word2vec.model\")"
      ],
      "metadata": {
        "id": "xjCYSzZPcXmX"
      },
      "execution_count": 74,
      "outputs": []
    },
    {
      "cell_type": "code",
      "source": [
        "#function creating sentence vectors using the word embeddings\n",
        "def sentence_vector(words, model):\n",
        "    word_vectors = [model.wv[word] for word in words if word in model.wv]\n",
        "    if not word_vectors:\n",
        "        return np.zeros(model.vector_size)\n",
        "    return np.mean(word_vectors, axis=0)"
      ],
      "metadata": {
        "id": "NuVSvNDGi_2q"
      },
      "execution_count": 75,
      "outputs": []
    },
    {
      "cell_type": "code",
      "source": [
        "train_sentence_vectors = [sentence_vector(words, model) for words in X_train]"
      ],
      "metadata": {
        "id": "bSjWZ9mujbFA"
      },
      "execution_count": 76,
      "outputs": []
    },
    {
      "cell_type": "code",
      "source": [
        "test_sentence_vectors = [sentence_vector(words, model) for words in X_test]"
      ],
      "metadata": {
        "id": "sMdI2NEZjseD"
      },
      "execution_count": 77,
      "outputs": []
    },
    {
      "cell_type": "code",
      "source": [
        "all_sentence_vectors = [sentence_vector(words, model) for words in X]"
      ],
      "metadata": {
        "id": "5clkJvXzi_0x"
      },
      "execution_count": 78,
      "outputs": []
    },
    {
      "cell_type": "markdown",
      "source": [
        "##Clustering\n",
        "\n"
      ],
      "metadata": {
        "id": "qMiGDa3NAX85"
      }
    },
    {
      "cell_type": "code",
      "source": [
        "# Function to extract metadata\n",
        "def extract_metadata(file_path):\n",
        "    return {\n",
        "        'file_name': os.path.splitext(file_path)[0]\n",
        "    }"
      ],
      "metadata": {
        "id": "p0R2L9X3eVz8"
      },
      "execution_count": 79,
      "outputs": []
    },
    {
      "cell_type": "code",
      "source": [
        "# Extract metadata and normalize features\n",
        "metadata_features = []\n",
        "for file_path in df['file_name']:\n",
        "    metadata = extract_metadata(os.path.join(path, file_path))\n",
        "    metadata_features.append(metadata)\n",
        "\n",
        "metadata_df = pd.DataFrame(metadata_features)\n"
      ],
      "metadata": {
        "id": "lpTh2AB_e0kM"
      },
      "execution_count": 80,
      "outputs": []
    },
    {
      "cell_type": "code",
      "source": [
        "from sklearn.preprocessing import LabelEncoder\n",
        "\n",
        "# Encode the file names to numerical values\n",
        "label_encoder = LabelEncoder()\n",
        "metadata_df['file_name_encoded'] = label_encoder.fit_transform(metadata_df['file_name'])\n"
      ],
      "metadata": {
        "id": "kiHyShCge0cg"
      },
      "execution_count": 81,
      "outputs": []
    },
    {
      "cell_type": "code",
      "source": [
        "from sklearn.preprocessing import StandardScaler\n",
        "scaler = StandardScaler()\n",
        "metadata_features_scaled = scaler.fit_transform(metadata_df[['file_name_encoded']])\n"
      ],
      "metadata": {
        "id": "oGkNlJKEe4R1"
      },
      "execution_count": 82,
      "outputs": []
    },
    {
      "cell_type": "code",
      "source": [
        "from gensim import corpora\n",
        "from gensim.models.ldamodel import LdaModel\n",
        "# Topic modeling using LDA\n",
        "dictionary = corpora.Dictionary(df['cleaned_content'])\n",
        "corpus = [dictionary.doc2bow(text) for text in df['cleaned_content']]\n",
        "lda_model = LdaModel(corpus, num_topics=3, id2word=dictionary, passes=15)\n",
        "\n",
        "# Extract topic distributions for each document\n",
        "def get_topic_distribution(text, model, dictionary):\n",
        "    bow = dictionary.doc2bow(text)\n",
        "    topic_distribution = model.get_document_topics(bow, minimum_probability=0)\n",
        "    return [prob for _, prob in topic_distribution]\n",
        "\n",
        "topic_distributions = [get_topic_distribution(text, lda_model, dictionary) for text in X]\n"
      ],
      "metadata": {
        "id": "snOUGcTCaHy0"
      },
      "execution_count": 83,
      "outputs": []
    },
    {
      "cell_type": "code",
      "source": [
        "def calculate_combined_similarity(text_vectors, topic_vectors, metadata_vectors, alpha=0.6, beta=0.2):\n",
        "    from sklearn.metrics.pairwise import cosine_similarity\n",
        "    text_similarity = cosine_similarity(text_vectors)\n",
        "    topic_similarity = cosine_similarity(topic_vectors)\n",
        "    metadata_similarity = cosine_similarity(metadata_vectors)\n",
        "    combined_similarity = alpha * text_similarity + beta * topic_similarity + (1 - alpha - beta) * metadata_similarity\n",
        "    return combined_similarity\n",
        "combined_similarity = calculate_combined_similarity(all_sentence_vectors, topic_distributions, metadata_features_scaled)"
      ],
      "metadata": {
        "id": "KxoHYhwAfG4u"
      },
      "execution_count": 84,
      "outputs": []
    },
    {
      "cell_type": "code",
      "source": [
        "combined_similarity[1]"
      ],
      "metadata": {
        "colab": {
          "base_uri": "https://localhost:8080/"
        },
        "id": "-yQlXOEPm8Li",
        "outputId": "4826727e-a269-4106-ca88-2c67debd5af2"
      },
      "execution_count": 85,
      "outputs": [
        {
          "output_type": "execute_result",
          "data": {
            "text/plain": [
              "array([0.99995877, 1.00000001, 0.80087645, 0.99992211, 0.99910219,\n",
              "       0.99991746, 0.40206646, 0.40064441, 0.93567277, 0.80087156,\n",
              "       0.40030484, 0.80076374, 0.80040778, 0.40059929, 0.99986495,\n",
              "       0.80079145, 0.59812014, 0.40046387, 0.40052562, 0.80051739,\n",
              "       0.82414074, 0.40038924, 0.82713796, 0.80061848, 0.54292499,\n",
              "       0.53874545, 0.40035342, 0.40052878, 0.80045177, 0.40059965,\n",
              "       0.40043418, 0.40033035, 0.80056138, 0.99994416, 0.41090422,\n",
              "       0.40029316, 0.99995865, 0.40047817, 0.99990906, 0.80043174,\n",
              "       0.99993635, 0.40523009, 0.40039747, 0.99994017, 0.80057569,\n",
              "       0.99995322, 0.40040253, 0.40063171, 0.99977953, 0.80048234,\n",
              "       0.99996079, 0.40044897, 0.40038483, 0.40086071, 0.40049039,\n",
              "       0.40042351, 0.40035521, 0.40045642, 0.42807399, 0.98258932])"
            ]
          },
          "metadata": {},
          "execution_count": 85
        }
      ]
    },
    {
      "cell_type": "code",
      "source": [
        "def cluster_based_on_similarity(similarity_matrix, threshold):\n",
        "    n = similarity_matrix.shape[0]\n",
        "    clusters = []\n",
        "    visited = set()\n",
        "    for i in range(n):\n",
        "        if i not in visited:\n",
        "            cluster = []\n",
        "            for j in range(n):\n",
        "                if similarity_matrix[i, j] >= threshold:\n",
        "                    cluster.append(j)\n",
        "                    visited.add(j)\n",
        "            clusters.append(cluster)\n",
        "    return clusters\n",
        "\n",
        "clusters = cluster_based_on_similarity(combined_similarity, threshold=0.982)"
      ],
      "metadata": {
        "id": "YW1rgWIzm8EY"
      },
      "execution_count": 107,
      "outputs": []
    },
    {
      "cell_type": "code",
      "source": [
        "for cluster_id, cluster in enumerate(clusters):\n",
        "    print(f'Cluster {cluster_id}:')\n",
        "    for point in cluster:\n",
        "        print(f'- {df.iloc[point][\"file_name\"]}')"
      ],
      "metadata": {
        "colab": {
          "base_uri": "https://localhost:8080/"
        },
        "id": "Cmng9qBSnBmo",
        "outputId": "eb6aace6-64d5-4893-d360-92c6cfa97e65"
      },
      "execution_count": 108,
      "outputs": [
        {
          "output_type": "stream",
          "name": "stdout",
          "text": [
            "Cluster 0:\n",
            "- health_essay15.docx\n",
            "- health_essay4.docx\n",
            "- health_essay9.docx\n",
            "- entertainment_essay2.txt\n",
            "- health_essay20.txt\n",
            "- health_essay8.txt\n",
            "- health_essay6.txt\n",
            "- health_essay2.docx\n",
            "- health_essay5.pdf\n",
            "- health_essay3.docx\n",
            "- health_essay11.docx\n",
            "- health_essay10.pdf\n",
            "- entertainment_essay20.pdf\n",
            "- health_essay17.pdf\n",
            "- entertainment_essay4.txt\n",
            "Cluster 1:\n",
            "- entertainment_essay3.txt\n",
            "- entertainment_essay9.pdf\n",
            "- entertainment_essay8.docx\n",
            "- entertainment_essay7.docx\n",
            "- entertainment_summary10.docx\n",
            "Cluster 2:\n",
            "- education_essay4.docx\n",
            "- education_essay2.docx\n",
            "- education_essay19.pdf\n",
            "- education_summary14.pdf\n",
            "- education_essay10.txt\n",
            "- education_essay3.docx\n",
            "- education_essay5.docx\n",
            "- education_esaay20.pdf\n",
            "- education_essay16.pdf\n",
            "- education_essay17.pdf\n",
            "- entertainment_data16.pdf\n",
            "- entertainment_essay18.pdf\n",
            "- education_essay7.docx\n",
            "- entertainment_essay15.pdf\n",
            "- education_essay18.pdf\n",
            "- education_data15.pdf\n",
            "- education_essay8.txt\n",
            "- education_data13.txt\n",
            "- entertainment_essay12.pdf\n",
            "- education_essay9.txt\n",
            "- education_essay11.txt\n",
            "- education_essay6.docx\n",
            "- education_essay12.txt\n",
            "Cluster 3:\n",
            "- entertainment_essay11.docx\n",
            "Cluster 4:\n",
            "- health_essay7.txt\n",
            "Cluster 5:\n",
            "- health_essay19.txt\n",
            "- entertainment_essay5.txt\n",
            "- entertainment_essay6.txt\n",
            "- health_essay1.pdf\n",
            "- health_summary13.docx\n",
            "- health_essay18.txt\n",
            "- health_data12.txt\n",
            "- health_data14.docx\n",
            "- health_essay16.docx\n",
            "Cluster 6:\n",
            "- entertainment_essay13.pdf\n",
            "Cluster 7:\n",
            "- education_essay1.docx\n",
            "- entertainment_essay1.txt\n",
            "Cluster 8:\n",
            "- entertainment_data17.docx\n",
            "- entertainment_essay14.docx\n",
            "- entertainment_essay19.pdf\n"
          ]
        }
      ]
    },
    {
      "cell_type": "code",
      "source": [
        "from sklearn.metrics import pairwise_distances, silhouette_score\n",
        "import numpy as np\n",
        "\n",
        "distances = 1 - combined_similarity  # Convert similarity to distance\n",
        "\n",
        "np.fill_diagonal(distances, 0)\n",
        "\n",
        "def silhouette_score_custom(X, labels):\n",
        "    return silhouette_score(X, labels, metric='precomputed')\n",
        "\n",
        "labels = np.zeros(combined_similarity.shape[0], dtype=int)\n",
        "for cluster_id, cluster in enumerate(clusters):\n",
        "    for point in cluster:\n",
        "        labels[point] = cluster_id\n",
        "\n",
        "silhouette = silhouette_score_custom(distances, labels)\n",
        "print(\"Silhouette Score:\", silhouette)\n"
      ],
      "metadata": {
        "colab": {
          "base_uri": "https://localhost:8080/"
        },
        "id": "6H3Ry1s0nBjo",
        "outputId": "b5206848-0433-4a68-bb8f-22d5117dbb7f"
      },
      "execution_count": 109,
      "outputs": [
        {
          "output_type": "stream",
          "name": "stdout",
          "text": [
            "Silhouette Score: 0.9354005585189588\n"
          ]
        }
      ]
    },
    {
      "cell_type": "markdown",
      "source": [
        "## Classification\n",
        "If the labels of the datapoints are given, we perfrom classification as it is supervised machine learning algorithm."
      ],
      "metadata": {
        "id": "Y_biMypNAbEq"
      }
    },
    {
      "cell_type": "code",
      "source": [
        "from sklearn.linear_model import LogisticRegression\n",
        "from sklearn.tree import DecisionTreeClassifier\n",
        "from sklearn.ensemble import RandomForestClassifier\n",
        "from sklearn.metrics import accuracy_score, precision_score, recall_score, f1_score\n",
        "\n",
        "clf_log = LogisticRegression()\n",
        "clf_dt = DecisionTreeClassifier()\n",
        "clf_rf = RandomForestClassifier()\n",
        "\n",
        "# A family of models are considered to perform the classification in order to acquire the best performing algorithm.\n",
        "models = {\n",
        "    'Logistic Regression': clf_log,\n",
        "    'Decision Tree' : clf_dt,\n",
        "    'Random Forest': clf_rf,\n",
        "}\n",
        "\n",
        "# model evaluations are perfromed respectively and the results are compared\n",
        "def evaluate_model(model, X_train, X_test, y_train, y_test):\n",
        "  model.fit(train_sentence_vectors, y_train)\n",
        "  y_pred_train = model.predict(train_sentence_vectors)\n",
        "  y_pred_test = model.predict(test_sentence_vectors)\n",
        "\n",
        "  metrics = {\n",
        "      'Test Accuracy': accuracy_score(y_test, y_pred_test),\n",
        "      'Test Precision': precision_score(y_test, y_pred_test, average='weighted'),\n",
        "      'Test Recall': recall_score(y_test, y_pred_test, average='weighted'),\n",
        "      'Test F1 Score': f1_score(y_test, y_pred_test, average='weighted')\n",
        "    }\n",
        "  return metrics"
      ],
      "metadata": {
        "id": "HjVG-6rcAcag"
      },
      "execution_count": 110,
      "outputs": []
    },
    {
      "cell_type": "code",
      "source": [
        "results = {}\n",
        "\n",
        "for model_name, model in models.items():\n",
        "  metrics = evaluate_model(model, train_sentence_vectors, test_sentence_vectors, y_train, y_test)\n",
        "  results[model_name] = metrics\n",
        "\n",
        "results_df = pd.DataFrame(results).T\n",
        "results_df.columns = ['Accuracy', 'Precision', 'Recall', 'F1 Score']\n",
        "results_df['Algorithm'] = results_df.index\n",
        "results_df = results_df.reset_index(drop=True)\n",
        "\n",
        "print(results_df)"
      ],
      "metadata": {
        "colab": {
          "base_uri": "https://localhost:8080/"
        },
        "id": "IDNuWZG8Ak6e",
        "outputId": "c8f626f3-24c1-40e2-903a-c904c9da02d0"
      },
      "execution_count": 111,
      "outputs": [
        {
          "output_type": "stream",
          "name": "stdout",
          "text": [
            "   Accuracy  Precision    Recall  F1 Score            Algorithm\n",
            "0  0.250000   0.062500  0.250000  0.100000  Logistic Regression\n",
            "1  0.750000   0.805556  0.750000  0.725000        Decision Tree\n",
            "2  0.833333   0.888889  0.833333  0.837037        Random Forest\n"
          ]
        }
      ]
    },
    {
      "cell_type": "code",
      "source": [
        "results_df"
      ],
      "metadata": {
        "colab": {
          "base_uri": "https://localhost:8080/",
          "height": 143
        },
        "id": "ASj8ekoIJw4b",
        "outputId": "2537e126-57e4-49c8-e83d-c3e45788e185"
      },
      "execution_count": 112,
      "outputs": [
        {
          "output_type": "execute_result",
          "data": {
            "text/plain": [
              "   Accuracy  Precision    Recall  F1 Score            Algorithm\n",
              "0  0.250000   0.062500  0.250000  0.100000  Logistic Regression\n",
              "1  0.750000   0.805556  0.750000  0.725000        Decision Tree\n",
              "2  0.833333   0.888889  0.833333  0.837037        Random Forest"
            ],
            "text/html": [
              "\n",
              "  <div id=\"df-dd5675b5-4e4c-436c-a1e7-80a6462c85aa\" class=\"colab-df-container\">\n",
              "    <div>\n",
              "<style scoped>\n",
              "    .dataframe tbody tr th:only-of-type {\n",
              "        vertical-align: middle;\n",
              "    }\n",
              "\n",
              "    .dataframe tbody tr th {\n",
              "        vertical-align: top;\n",
              "    }\n",
              "\n",
              "    .dataframe thead th {\n",
              "        text-align: right;\n",
              "    }\n",
              "</style>\n",
              "<table border=\"1\" class=\"dataframe\">\n",
              "  <thead>\n",
              "    <tr style=\"text-align: right;\">\n",
              "      <th></th>\n",
              "      <th>Accuracy</th>\n",
              "      <th>Precision</th>\n",
              "      <th>Recall</th>\n",
              "      <th>F1 Score</th>\n",
              "      <th>Algorithm</th>\n",
              "    </tr>\n",
              "  </thead>\n",
              "  <tbody>\n",
              "    <tr>\n",
              "      <th>0</th>\n",
              "      <td>0.250000</td>\n",
              "      <td>0.062500</td>\n",
              "      <td>0.250000</td>\n",
              "      <td>0.100000</td>\n",
              "      <td>Logistic Regression</td>\n",
              "    </tr>\n",
              "    <tr>\n",
              "      <th>1</th>\n",
              "      <td>0.750000</td>\n",
              "      <td>0.805556</td>\n",
              "      <td>0.750000</td>\n",
              "      <td>0.725000</td>\n",
              "      <td>Decision Tree</td>\n",
              "    </tr>\n",
              "    <tr>\n",
              "      <th>2</th>\n",
              "      <td>0.833333</td>\n",
              "      <td>0.888889</td>\n",
              "      <td>0.833333</td>\n",
              "      <td>0.837037</td>\n",
              "      <td>Random Forest</td>\n",
              "    </tr>\n",
              "  </tbody>\n",
              "</table>\n",
              "</div>\n",
              "    <div class=\"colab-df-buttons\">\n",
              "\n",
              "  <div class=\"colab-df-container\">\n",
              "    <button class=\"colab-df-convert\" onclick=\"convertToInteractive('df-dd5675b5-4e4c-436c-a1e7-80a6462c85aa')\"\n",
              "            title=\"Convert this dataframe to an interactive table.\"\n",
              "            style=\"display:none;\">\n",
              "\n",
              "  <svg xmlns=\"http://www.w3.org/2000/svg\" height=\"24px\" viewBox=\"0 -960 960 960\">\n",
              "    <path d=\"M120-120v-720h720v720H120Zm60-500h600v-160H180v160Zm220 220h160v-160H400v160Zm0 220h160v-160H400v160ZM180-400h160v-160H180v160Zm440 0h160v-160H620v160ZM180-180h160v-160H180v160Zm440 0h160v-160H620v160Z\"/>\n",
              "  </svg>\n",
              "    </button>\n",
              "\n",
              "  <style>\n",
              "    .colab-df-container {\n",
              "      display:flex;\n",
              "      gap: 12px;\n",
              "    }\n",
              "\n",
              "    .colab-df-convert {\n",
              "      background-color: #E8F0FE;\n",
              "      border: none;\n",
              "      border-radius: 50%;\n",
              "      cursor: pointer;\n",
              "      display: none;\n",
              "      fill: #1967D2;\n",
              "      height: 32px;\n",
              "      padding: 0 0 0 0;\n",
              "      width: 32px;\n",
              "    }\n",
              "\n",
              "    .colab-df-convert:hover {\n",
              "      background-color: #E2EBFA;\n",
              "      box-shadow: 0px 1px 2px rgba(60, 64, 67, 0.3), 0px 1px 3px 1px rgba(60, 64, 67, 0.15);\n",
              "      fill: #174EA6;\n",
              "    }\n",
              "\n",
              "    .colab-df-buttons div {\n",
              "      margin-bottom: 4px;\n",
              "    }\n",
              "\n",
              "    [theme=dark] .colab-df-convert {\n",
              "      background-color: #3B4455;\n",
              "      fill: #D2E3FC;\n",
              "    }\n",
              "\n",
              "    [theme=dark] .colab-df-convert:hover {\n",
              "      background-color: #434B5C;\n",
              "      box-shadow: 0px 1px 3px 1px rgba(0, 0, 0, 0.15);\n",
              "      filter: drop-shadow(0px 1px 2px rgba(0, 0, 0, 0.3));\n",
              "      fill: #FFFFFF;\n",
              "    }\n",
              "  </style>\n",
              "\n",
              "    <script>\n",
              "      const buttonEl =\n",
              "        document.querySelector('#df-dd5675b5-4e4c-436c-a1e7-80a6462c85aa button.colab-df-convert');\n",
              "      buttonEl.style.display =\n",
              "        google.colab.kernel.accessAllowed ? 'block' : 'none';\n",
              "\n",
              "      async function convertToInteractive(key) {\n",
              "        const element = document.querySelector('#df-dd5675b5-4e4c-436c-a1e7-80a6462c85aa');\n",
              "        const dataTable =\n",
              "          await google.colab.kernel.invokeFunction('convertToInteractive',\n",
              "                                                    [key], {});\n",
              "        if (!dataTable) return;\n",
              "\n",
              "        const docLinkHtml = 'Like what you see? Visit the ' +\n",
              "          '<a target=\"_blank\" href=https://colab.research.google.com/notebooks/data_table.ipynb>data table notebook</a>'\n",
              "          + ' to learn more about interactive tables.';\n",
              "        element.innerHTML = '';\n",
              "        dataTable['output_type'] = 'display_data';\n",
              "        await google.colab.output.renderOutput(dataTable, element);\n",
              "        const docLink = document.createElement('div');\n",
              "        docLink.innerHTML = docLinkHtml;\n",
              "        element.appendChild(docLink);\n",
              "      }\n",
              "    </script>\n",
              "  </div>\n",
              "\n",
              "\n",
              "<div id=\"df-79c33c88-1577-4940-ab67-96cd702252b8\">\n",
              "  <button class=\"colab-df-quickchart\" onclick=\"quickchart('df-79c33c88-1577-4940-ab67-96cd702252b8')\"\n",
              "            title=\"Suggest charts\"\n",
              "            style=\"display:none;\">\n",
              "\n",
              "<svg xmlns=\"http://www.w3.org/2000/svg\" height=\"24px\"viewBox=\"0 0 24 24\"\n",
              "     width=\"24px\">\n",
              "    <g>\n",
              "        <path d=\"M19 3H5c-1.1 0-2 .9-2 2v14c0 1.1.9 2 2 2h14c1.1 0 2-.9 2-2V5c0-1.1-.9-2-2-2zM9 17H7v-7h2v7zm4 0h-2V7h2v10zm4 0h-2v-4h2v4z\"/>\n",
              "    </g>\n",
              "</svg>\n",
              "  </button>\n",
              "\n",
              "<style>\n",
              "  .colab-df-quickchart {\n",
              "      --bg-color: #E8F0FE;\n",
              "      --fill-color: #1967D2;\n",
              "      --hover-bg-color: #E2EBFA;\n",
              "      --hover-fill-color: #174EA6;\n",
              "      --disabled-fill-color: #AAA;\n",
              "      --disabled-bg-color: #DDD;\n",
              "  }\n",
              "\n",
              "  [theme=dark] .colab-df-quickchart {\n",
              "      --bg-color: #3B4455;\n",
              "      --fill-color: #D2E3FC;\n",
              "      --hover-bg-color: #434B5C;\n",
              "      --hover-fill-color: #FFFFFF;\n",
              "      --disabled-bg-color: #3B4455;\n",
              "      --disabled-fill-color: #666;\n",
              "  }\n",
              "\n",
              "  .colab-df-quickchart {\n",
              "    background-color: var(--bg-color);\n",
              "    border: none;\n",
              "    border-radius: 50%;\n",
              "    cursor: pointer;\n",
              "    display: none;\n",
              "    fill: var(--fill-color);\n",
              "    height: 32px;\n",
              "    padding: 0;\n",
              "    width: 32px;\n",
              "  }\n",
              "\n",
              "  .colab-df-quickchart:hover {\n",
              "    background-color: var(--hover-bg-color);\n",
              "    box-shadow: 0 1px 2px rgba(60, 64, 67, 0.3), 0 1px 3px 1px rgba(60, 64, 67, 0.15);\n",
              "    fill: var(--button-hover-fill-color);\n",
              "  }\n",
              "\n",
              "  .colab-df-quickchart-complete:disabled,\n",
              "  .colab-df-quickchart-complete:disabled:hover {\n",
              "    background-color: var(--disabled-bg-color);\n",
              "    fill: var(--disabled-fill-color);\n",
              "    box-shadow: none;\n",
              "  }\n",
              "\n",
              "  .colab-df-spinner {\n",
              "    border: 2px solid var(--fill-color);\n",
              "    border-color: transparent;\n",
              "    border-bottom-color: var(--fill-color);\n",
              "    animation:\n",
              "      spin 1s steps(1) infinite;\n",
              "  }\n",
              "\n",
              "  @keyframes spin {\n",
              "    0% {\n",
              "      border-color: transparent;\n",
              "      border-bottom-color: var(--fill-color);\n",
              "      border-left-color: var(--fill-color);\n",
              "    }\n",
              "    20% {\n",
              "      border-color: transparent;\n",
              "      border-left-color: var(--fill-color);\n",
              "      border-top-color: var(--fill-color);\n",
              "    }\n",
              "    30% {\n",
              "      border-color: transparent;\n",
              "      border-left-color: var(--fill-color);\n",
              "      border-top-color: var(--fill-color);\n",
              "      border-right-color: var(--fill-color);\n",
              "    }\n",
              "    40% {\n",
              "      border-color: transparent;\n",
              "      border-right-color: var(--fill-color);\n",
              "      border-top-color: var(--fill-color);\n",
              "    }\n",
              "    60% {\n",
              "      border-color: transparent;\n",
              "      border-right-color: var(--fill-color);\n",
              "    }\n",
              "    80% {\n",
              "      border-color: transparent;\n",
              "      border-right-color: var(--fill-color);\n",
              "      border-bottom-color: var(--fill-color);\n",
              "    }\n",
              "    90% {\n",
              "      border-color: transparent;\n",
              "      border-bottom-color: var(--fill-color);\n",
              "    }\n",
              "  }\n",
              "</style>\n",
              "\n",
              "  <script>\n",
              "    async function quickchart(key) {\n",
              "      const quickchartButtonEl =\n",
              "        document.querySelector('#' + key + ' button');\n",
              "      quickchartButtonEl.disabled = true;  // To prevent multiple clicks.\n",
              "      quickchartButtonEl.classList.add('colab-df-spinner');\n",
              "      try {\n",
              "        const charts = await google.colab.kernel.invokeFunction(\n",
              "            'suggestCharts', [key], {});\n",
              "      } catch (error) {\n",
              "        console.error('Error during call to suggestCharts:', error);\n",
              "      }\n",
              "      quickchartButtonEl.classList.remove('colab-df-spinner');\n",
              "      quickchartButtonEl.classList.add('colab-df-quickchart-complete');\n",
              "    }\n",
              "    (() => {\n",
              "      let quickchartButtonEl =\n",
              "        document.querySelector('#df-79c33c88-1577-4940-ab67-96cd702252b8 button');\n",
              "      quickchartButtonEl.style.display =\n",
              "        google.colab.kernel.accessAllowed ? 'block' : 'none';\n",
              "    })();\n",
              "  </script>\n",
              "</div>\n",
              "    </div>\n",
              "  </div>\n"
            ],
            "application/vnd.google.colaboratory.intrinsic+json": {
              "type": "dataframe",
              "variable_name": "results_df",
              "summary": "{\n  \"name\": \"results_df\",\n  \"rows\": 3,\n  \"fields\": [\n    {\n      \"column\": \"Accuracy\",\n      \"properties\": {\n        \"dtype\": \"number\",\n        \"std\": 0.3154949081000152,\n        \"min\": 0.25,\n        \"max\": 0.8333333333333334,\n        \"num_unique_values\": 3,\n        \"samples\": [\n          0.25,\n          0.75,\n          0.8333333333333334\n        ],\n        \"semantic_type\": \"\",\n        \"description\": \"\"\n      }\n    },\n    {\n      \"column\": \"Precision\",\n      \"properties\": {\n        \"dtype\": \"number\",\n        \"std\": 0.4549715373451823,\n        \"min\": 0.0625,\n        \"max\": 0.8888888888888888,\n        \"num_unique_values\": 3,\n        \"samples\": [\n          0.0625,\n          0.8055555555555555,\n          0.8888888888888888\n        ],\n        \"semantic_type\": \"\",\n        \"description\": \"\"\n      }\n    },\n    {\n      \"column\": \"Recall\",\n      \"properties\": {\n        \"dtype\": \"number\",\n        \"std\": 0.3154949081000152,\n        \"min\": 0.25,\n        \"max\": 0.8333333333333334,\n        \"num_unique_values\": 3,\n        \"samples\": [\n          0.25,\n          0.75,\n          0.8333333333333334\n        ],\n        \"semantic_type\": \"\",\n        \"description\": \"\"\n      }\n    },\n    {\n      \"column\": \"F1 Score\",\n      \"properties\": {\n        \"dtype\": \"number\",\n        \"std\": 0.3971567473161306,\n        \"min\": 0.10000000000000002,\n        \"max\": 0.837037037037037,\n        \"num_unique_values\": 3,\n        \"samples\": [\n          0.10000000000000002,\n          0.7250000000000001,\n          0.837037037037037\n        ],\n        \"semantic_type\": \"\",\n        \"description\": \"\"\n      }\n    },\n    {\n      \"column\": \"Algorithm\",\n      \"properties\": {\n        \"dtype\": \"string\",\n        \"num_unique_values\": 3,\n        \"samples\": [\n          \"Logistic Regression\",\n          \"Decision Tree\",\n          \"Random Forest\"\n        ],\n        \"semantic_type\": \"\",\n        \"description\": \"\"\n      }\n    }\n  ]\n}"
            }
          },
          "metadata": {},
          "execution_count": 112
        }
      ]
    },
    {
      "cell_type": "code",
      "source": [
        "results_df.set_index('Algorithm', inplace=True)\n",
        "\n",
        "ax = results_df.plot(kind='bar', figsize=(12, 6))\n",
        "\n",
        "for p in ax.patches:\n",
        "    ax.annotate(f'{p.get_height():.2f}', (p.get_x() * 1.005, p.get_height() * 1.005))\n",
        "\n",
        "plt.title('Comparison of Classification Algorithms')\n",
        "plt.ylabel('Score')\n",
        "plt.xlabel('Metric')\n",
        "plt.ylim(0, 1)\n",
        "plt.legend(title='Algorithm')\n",
        "plt.show()\n",
        "\n",
        "#Therefore, we can say that Random Forest classifier works best among all of them."
      ],
      "metadata": {
        "colab": {
          "base_uri": "https://localhost:8080/",
          "height": 683
        },
        "id": "dMUICK8RwmtY",
        "outputId": "13fe6a8a-5c7f-4a56-d1c7-b8d5e43ce02d"
      },
      "execution_count": 113,
      "outputs": [
        {
          "output_type": "display_data",
          "data": {
            "text/plain": [
              "<Figure size 1200x600 with 1 Axes>"
            ],
            "image/png": "[encoded data removed]"
          },
          "metadata": {}
        }
      ]
    },
    {
      "cell_type": "code",
      "source": [],
      "metadata": {
        "id": "0LgLY9AWHP8f"
      },
      "execution_count": null,
      "outputs": []
    }
  ]
}